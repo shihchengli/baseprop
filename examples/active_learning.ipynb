{
 "cells": [
  {
   "cell_type": "markdown",
   "metadata": {},
   "source": [
    "# Active Learning\n",
    "Active learning is an iterative process where a model actively selects the most informative data points to be labeled by an oracle (e.g., a human expert), optimizing the model's performance with fewer labeled samples. Active learning can be implemented with Baseprop through Python, as demonstrated by this notebook. This notebook follows Dreiman et al.'s method, using LazyBitVectorPick from RDKit’s MaxMinPicker module to first select 10% of the dataset. Afterward, each step adds an additional 5% of data into the training pool, with the exploitation sample being 0.8X, where X is 5%. The exploration sample makes up the remaining component. As I am not able to obtain the dataset from the original paper, the BACE dataset is used here as a demonstration. The BACE dataset focuses on inhibitors of human beta-secretase 1 (BACE-1) and includes both quantitative (IC50 values) and qualitative (binary labels) binding results.\n",
    "\n",
    "Dreiman et al.: https://doi.org/10.1177/2472555220949495\n",
    "\n",
    "NOTE: To simplify the code, I use a notebook to call the APIs in the Baseprop package developed for this task. The functions for hyper-parameter tuning, experiment logging, and tracking are accessible via CLI. CI/CD capabilities are also integrated into this package."
   ]
  },
  {
   "cell_type": "markdown",
   "metadata": {},
   "source": [
    "Considerations and design decisions that would be important for this kind of task:\n",
    "1. **Data Ingestion and Processing**\n",
    "   Efficiently ingest and process datasets with robust pipelines to ensure high data quality and seamless integration.\n",
    "\n",
    "2. **Model Training**\n",
    "   Select suitable models, like graph neural networks, for molecular and biological data. Optimize and validate models for robustness and generalization.\n",
    "\n",
    "3. **Inference and Candidate Selection**\n",
    "   Design an efficient inference pipeline to predict properties of unlabelled molecules and prioritize high-potential candidates using parallel processing and hardware acceleration.\n",
    "\n",
    "4. **Experiment Tracking and Model Management**\n",
    "   Implement comprehensive tracking and versioning systems for experiments and models. Address model and data drift through regular retraining and performance monitoring.\n",
    "\n",
    "5. **Iterative Screening and Data Augmentation**\n",
    "   Establish an iterative screening process with active learning to incorporate new experimental data, enhancing dataset quality and model performance over time.\n",
    "\n",
    "6. **CI/CD Pipeline**\n",
    "   Set up a CI/CD pipeline for automated integration, testing, validation, and deployment of updated models, ensuring accuracy and reliability.\n",
    "\n",
    "7. **Additional Considerations**\n",
    "   - **Scalability:** Ensure the system can handle large-scale data and workloads.\n",
    "   - **Security and Compliance:** Maintain data privacy and regulatory compliance.\n",
    "   - **User Interface:** Develop a user-friendly interface for researchers.\n",
    "   - **Collaboration:** Integrate with existing research tools to facilitate collaboration."
   ]
  },
  {
   "cell_type": "markdown",
   "metadata": {},
   "source": [
    "# Import Packages"
   ]
  },
  {
   "cell_type": "code",
   "execution_count": 1,
   "metadata": {},
   "outputs": [],
   "source": [
    "import random\n",
    "from copy import copy\n",
    "from pathlib import Path\n",
    "from typing import Tuple\n",
    "\n",
    "import matplotlib.pyplot as plt\n",
    "import numpy as np\n",
    "import pandas as pd\n",
    "import torch\n",
    "from lightning import pytorch as pl\n",
    "from rdkit import Chem\n",
    "from rdkit.Chem import rdMolDescriptors\n",
    "from rdkit.SimDivFilters import rdSimDivPickers\n",
    "from torch.utils.data import DataLoader\n",
    "\n",
    "from baseprop import data, nn\n",
    "from baseprop.cli.utils.parsing import make_datapoints\n",
    "from baseprop.models.model import LitModule"
   ]
  },
  {
   "cell_type": "markdown",
   "metadata": {},
   "source": [
    "# Change data inputs"
   ]
  },
  {
   "cell_type": "code",
   "execution_count": 2,
   "metadata": {},
   "outputs": [],
   "source": [
    "baseprop_dir = Path.cwd().parent\n",
    "input_path = baseprop_dir / \"data\" / \"bace.csv\" # path to your data .csv file\n",
    "num_workers = (\n",
    "    0  # number of workers for dataloader. 0 means using main process for data loading\n",
    ")\n",
    "smiles_column = \"mol\"  # name of the column containing SMILES strings\n",
    "target_columns = [\"Class\"]  # list of names of the columns containing targets"
   ]
  },
  {
   "cell_type": "markdown",
   "metadata": {},
   "source": [
    "## Load data"
   ]
  },
  {
   "cell_type": "code",
   "execution_count": 3,
   "metadata": {},
   "outputs": [
    {
     "data": {
      "text/html": [
       "<div>\n",
       "<style scoped>\n",
       "    .dataframe tbody tr th:only-of-type {\n",
       "        vertical-align: middle;\n",
       "    }\n",
       "\n",
       "    .dataframe tbody tr th {\n",
       "        vertical-align: top;\n",
       "    }\n",
       "\n",
       "    .dataframe thead th {\n",
       "        text-align: right;\n",
       "    }\n",
       "</style>\n",
       "<table border=\"1\" class=\"dataframe\">\n",
       "  <thead>\n",
       "    <tr style=\"text-align: right;\">\n",
       "      <th></th>\n",
       "      <th>mol</th>\n",
       "      <th>Class</th>\n",
       "    </tr>\n",
       "  </thead>\n",
       "  <tbody>\n",
       "    <tr>\n",
       "      <th>0</th>\n",
       "      <td>O1CC[C@@H](NC(=O)[C@@H](Cc2cc3cc(ccc3nc2N)-c2c...</td>\n",
       "      <td>1</td>\n",
       "    </tr>\n",
       "    <tr>\n",
       "      <th>1</th>\n",
       "      <td>Fc1cc(cc(F)c1)C[C@H](NC(=O)[C@@H](N1CC[C@](NC(...</td>\n",
       "      <td>1</td>\n",
       "    </tr>\n",
       "    <tr>\n",
       "      <th>2</th>\n",
       "      <td>S1(=O)(=O)N(c2cc(cc3c2n(cc3CC)CC1)C(=O)N[C@H](...</td>\n",
       "      <td>1</td>\n",
       "    </tr>\n",
       "    <tr>\n",
       "      <th>3</th>\n",
       "      <td>S1(=O)(=O)C[C@@H](Cc2cc(O[C@H](COCC)C(F)(F)F)c...</td>\n",
       "      <td>1</td>\n",
       "    </tr>\n",
       "    <tr>\n",
       "      <th>4</th>\n",
       "      <td>S1(=O)(=O)N(c2cc(cc3c2n(cc3CC)CC1)C(=O)N[C@H](...</td>\n",
       "      <td>1</td>\n",
       "    </tr>\n",
       "    <tr>\n",
       "      <th>...</th>\n",
       "      <td>...</td>\n",
       "      <td>...</td>\n",
       "    </tr>\n",
       "    <tr>\n",
       "      <th>1508</th>\n",
       "      <td>Clc1cc2nc(n(c2cc1)C(CC(=O)NCC1CCOCC1)CC)N</td>\n",
       "      <td>0</td>\n",
       "    </tr>\n",
       "    <tr>\n",
       "      <th>1509</th>\n",
       "      <td>Clc1cc2nc(n(c2cc1)C(CC(=O)NCc1ncccc1)CC)N</td>\n",
       "      <td>0</td>\n",
       "    </tr>\n",
       "    <tr>\n",
       "      <th>1510</th>\n",
       "      <td>Brc1cc(ccc1)C1CC1C=1N=C(N)N(C)C(=O)C=1</td>\n",
       "      <td>0</td>\n",
       "    </tr>\n",
       "    <tr>\n",
       "      <th>1511</th>\n",
       "      <td>O=C1N(C)C(=NC(=C1)C1CC1c1cc(ccc1)-c1ccccc1)N</td>\n",
       "      <td>0</td>\n",
       "    </tr>\n",
       "    <tr>\n",
       "      <th>1512</th>\n",
       "      <td>Clc1cc2nc(n(c2cc1)CCCC(=O)NCC1CC1)N</td>\n",
       "      <td>0</td>\n",
       "    </tr>\n",
       "  </tbody>\n",
       "</table>\n",
       "<p>1513 rows × 2 columns</p>\n",
       "</div>"
      ],
      "text/plain": [
       "                                                    mol  Class\n",
       "0     O1CC[C@@H](NC(=O)[C@@H](Cc2cc3cc(ccc3nc2N)-c2c...      1\n",
       "1     Fc1cc(cc(F)c1)C[C@H](NC(=O)[C@@H](N1CC[C@](NC(...      1\n",
       "2     S1(=O)(=O)N(c2cc(cc3c2n(cc3CC)CC1)C(=O)N[C@H](...      1\n",
       "3     S1(=O)(=O)C[C@@H](Cc2cc(O[C@H](COCC)C(F)(F)F)c...      1\n",
       "4     S1(=O)(=O)N(c2cc(cc3c2n(cc3CC)CC1)C(=O)N[C@H](...      1\n",
       "...                                                 ...    ...\n",
       "1508          Clc1cc2nc(n(c2cc1)C(CC(=O)NCC1CCOCC1)CC)N      0\n",
       "1509          Clc1cc2nc(n(c2cc1)C(CC(=O)NCc1ncccc1)CC)N      0\n",
       "1510             Brc1cc(ccc1)C1CC1C=1N=C(N)N(C)C(=O)C=1      0\n",
       "1511       O=C1N(C)C(=NC(=C1)C1CC1c1cc(ccc1)-c1ccccc1)N      0\n",
       "1512                Clc1cc2nc(n(c2cc1)CCCC(=O)NCC1CC1)N      0\n",
       "\n",
       "[1513 rows x 2 columns]"
      ]
     },
     "execution_count": 3,
     "metadata": {},
     "output_type": "execute_result"
    }
   ],
   "source": [
    "df_input = pd.read_csv(input_path)\n",
    "df_input"
   ]
  },
  {
   "cell_type": "code",
   "execution_count": 4,
   "metadata": {},
   "outputs": [
    {
     "data": {
      "text/plain": [
       "Class\n",
       "0        822\n",
       "1        691\n",
       "Name: count, dtype: int64"
      ]
     },
     "execution_count": 4,
     "metadata": {},
     "output_type": "execute_result"
    }
   ],
   "source": [
    "df_input.loc[:, target_columns].value_counts()"
   ]
  },
  {
   "cell_type": "markdown",
   "metadata": {},
   "source": [
    "## Get SMILES and targets"
   ]
  },
  {
   "cell_type": "code",
   "execution_count": 5,
   "metadata": {},
   "outputs": [],
   "source": [
    "smis = df_input.loc[:, smiles_column].values\n",
    "ys = df_input.loc[:, target_columns].values"
   ]
  },
  {
   "cell_type": "code",
   "execution_count": 6,
   "metadata": {},
   "outputs": [
    {
     "data": {
      "text/plain": [
       "array(['O1CC[C@@H](NC(=O)[C@@H](Cc2cc3cc(ccc3nc2N)-c2ccccc2C)C)CC1(C)C',\n",
       "       'Fc1cc(cc(F)c1)C[C@H](NC(=O)[C@@H](N1CC[C@](NC(=O)C)(CC(C)C)C1=O)CCc1ccccc1)[C@H](O)[C@@H]1[NH2+]C[C@H](OCCC)C1',\n",
       "       'S1(=O)(=O)N(c2cc(cc3c2n(cc3CC)CC1)C(=O)N[C@H]([C@H](O)C[NH2+]Cc1cc(OC)ccc1)Cc1ccccc1)C',\n",
       "       'S1(=O)(=O)C[C@@H](Cc2cc(O[C@H](COCC)C(F)(F)F)c(N)c(F)c2)[C@H](O)[C@@H]([NH2+]Cc2cc(ccc2)C(C)(C)C)C1',\n",
       "       'S1(=O)(=O)N(c2cc(cc3c2n(cc3CC)CC1)C(=O)N[C@H]([C@H](O)C[NH2+]Cc1cc(ccc1)C(F)(F)F)Cc1ccccc1)C'],\n",
       "      dtype=object)"
      ]
     },
     "execution_count": 6,
     "metadata": {},
     "output_type": "execute_result"
    }
   ],
   "source": [
    "smis[:5]  # show first 5 SMILES strings"
   ]
  },
  {
   "cell_type": "code",
   "execution_count": 7,
   "metadata": {},
   "outputs": [
    {
     "data": {
      "text/plain": [
       "array([[1],\n",
       "       [1],\n",
       "       [1],\n",
       "       [1],\n",
       "       [1]])"
      ]
     },
     "execution_count": 7,
     "metadata": {},
     "output_type": "execute_result"
    }
   ],
   "source": [
    "ys[:5]  # show first 5 targets"
   ]
  },
  {
   "cell_type": "markdown",
   "metadata": {},
   "source": [
    "## Get molecule datapoints"
   ]
  },
  {
   "cell_type": "code",
   "execution_count": 8,
   "metadata": {},
   "outputs": [],
   "source": [
    "smiss = df_input[[smiles_column]].T.values.tolist()\n",
    "Y = df_input[target_columns]\n",
    "Y = Y.to_numpy(np.single)\n",
    "all_data = make_datapoints(\n",
    "    smiss, Y, molecule_featurizers=[\"morgan_binary\"], keep_h=False, add_h=False\n",
    ")\n",
    "# For DNN model, only Morgan fingerprints will be used.\n",
    "# For the GCNN model, both the molecular graph and the Morgan fingerprint will be used.\n",
    "# If the Morgan fingerprint is not to be used, you can remove the entry for molecule_featurizers."
   ]
  },
  {
   "cell_type": "markdown",
   "metadata": {},
   "source": [
    "## Data splitting for training/validation pool and testing"
   ]
  },
  {
   "cell_type": "code",
   "execution_count": 9,
   "metadata": {},
   "outputs": [],
   "source": [
    "def smiles_to_fingerprint(smiles, radius=2, nBits=2048):\n",
    "    mol = Chem.MolFromSmiles(smiles)\n",
    "    if mol is None:\n",
    "        return None\n",
    "    fingerprint = rdMolDescriptors.GetMorganFingerprintAsBitVect(mol, radius, nBits)\n",
    "    return fingerprint\n",
    "\n",
    "\n",
    "fingerprints = [smiles_to_fingerprint(s) for s in smis]\n",
    "num_to_pick = int(len(fingerprints) * 0.1)\n",
    "picker = rdSimDivPickers.MaxMinPicker()\n",
    "picked_indices = picker.LazyBitVectorPick(fingerprints, len(fingerprints), num_to_pick)\n",
    "initial_training_indices = list(picked_indices)\n",
    "remaining_set_indices = list(set(range(len(smis))) - set(initial_training_indices))\n",
    "initial_training_data, _, remaining_data = data.split_data_by_indices(\n",
    "    all_data, [initial_training_indices], None, [remaining_set_indices]\n",
    ")\n",
    "initial_training_data = initial_training_data[0]\n",
    "remaining_data = remaining_data[0]"
   ]
  },
  {
   "cell_type": "markdown",
   "metadata": {},
   "source": [
    "## Get featurizer"
   ]
  },
  {
   "cell_type": "code",
   "execution_count": 10,
   "metadata": {},
   "outputs": [],
   "source": [
    "from baseprop.featurizers.atom import get_multi_hot_atom_featurizer\n",
    "from baseprop.featurizers.bond import MultiHotBondFeaturizer\n",
    "\n",
    "atom_featurizer = get_multi_hot_atom_featurizer(\"V1\")\n",
    "bond_featurizer = MultiHotBondFeaturizer()"
   ]
  },
  {
   "cell_type": "markdown",
   "metadata": {},
   "source": [
    "# Change model inputs here"
   ]
  },
  {
   "cell_type": "code",
   "execution_count": 11,
   "metadata": {},
   "outputs": [],
   "source": [
    "initial_training_dset = data.MoleculeDataset(\n",
    "    initial_training_data, atom_featurizer, bond_featurizer\n",
    ")"
   ]
  },
  {
   "cell_type": "code",
   "execution_count": 12,
   "metadata": {},
   "outputs": [
    {
     "data": {
      "text/plain": [
       "LitModule(\n",
       "  (encoder): GCN(\n",
       "    (dropout): Dropout(p=0, inplace=False)\n",
       "    (tau): ReLU()\n",
       "    (gcn_layers): ModuleList(\n",
       "      (0): GCNConv(133, 300)\n",
       "      (1): GCNConv(300, 300)\n",
       "    )\n",
       "  )\n",
       "  (predictor): BinaryClassificationFFN(\n",
       "    (ffn): MLP(\n",
       "      (layers): ModuleList(\n",
       "        (0): Linear(in_features=2348, out_features=300, bias=True)\n",
       "        (1): ReLU()\n",
       "        (2): Dropout(p=0.0, inplace=False)\n",
       "        (3): Linear(in_features=300, out_features=1, bias=True)\n",
       "      )\n",
       "    )\n",
       "    (criterion): BCELoss()\n",
       "    (output_transform): Identity()\n",
       "  )\n",
       "  (X_d_transform): Identity()\n",
       ")"
      ]
     },
     "execution_count": 12,
     "metadata": {},
     "output_type": "execute_result"
    }
   ],
   "source": [
    "# build model\n",
    "def get_gcnn():\n",
    "    metric_list = [nn.metrics.BCEMetric(), nn.metrics.BinaryAccuracyMetric()]\n",
    "    encoder = nn.GCN(n_features=len(initial_training_dset[0].mg.V[0]))\n",
    "    if initial_training_dset[0].x_d is not None:\n",
    "        input_dim = encoder.hidden_channels + len(initial_training_dset[0].x_d)\n",
    "    else:\n",
    "        input_dim = encoder.hidden_channels\n",
    "    predictor = nn.BinaryClassificationFFN(input_dim=input_dim)\n",
    "    model = LitModule(encoder=encoder, predictor=predictor, metrics=metric_list)\n",
    "\n",
    "    return model\n",
    "\n",
    "\n",
    "get_gcnn()"
   ]
  },
  {
   "cell_type": "code",
   "execution_count": 13,
   "metadata": {},
   "outputs": [
    {
     "data": {
      "text/plain": [
       "LitModule(\n",
       "  (predictor): BinaryClassificationFFN(\n",
       "    (ffn): MLP(\n",
       "      (layers): ModuleList(\n",
       "        (0): Linear(in_features=2048, out_features=300, bias=True)\n",
       "        (1): ReLU()\n",
       "        (2): Dropout(p=0.0, inplace=False)\n",
       "        (3): Linear(in_features=300, out_features=1, bias=True)\n",
       "      )\n",
       "    )\n",
       "    (criterion): BCELoss()\n",
       "    (output_transform): Identity()\n",
       "  )\n",
       "  (X_d_transform): Identity()\n",
       ")"
      ]
     },
     "execution_count": 13,
     "metadata": {},
     "output_type": "execute_result"
    }
   ],
   "source": [
    "# build model\n",
    "def get_dnn():\n",
    "    metric_list = [nn.metrics.BCEMetric(), nn.metrics.BinaryAccuracyMetric()]\n",
    "    input_dim = len(initial_training_dset[0].x_d)\n",
    "    predictor = nn.BinaryClassificationFFN(input_dim=input_dim)\n",
    "    model = LitModule(encoder=None, predictor=predictor, metrics=metric_list)\n",
    "\n",
    "    return model\n",
    "\n",
    "\n",
    "get_dnn()"
   ]
  },
  {
   "cell_type": "markdown",
   "metadata": {},
   "source": [
    "# Change active learning parameters here"
   ]
  },
  {
   "cell_type": "code",
   "execution_count": 14,
   "metadata": {},
   "outputs": [],
   "source": [
    "query_size = (\n",
    "    len(all_data) / 20\n",
    ")  # number of new datapoints added to trainval pool each iteration."
   ]
  },
  {
   "cell_type": "markdown",
   "metadata": {},
   "source": [
    "## Getting dataloaders"
   ]
  },
  {
   "cell_type": "code",
   "execution_count": 15,
   "metadata": {},
   "outputs": [],
   "source": [
    "def get_dataloaders(trainval_indices, test_indices) -> Tuple[DataLoader]:\n",
    "    shuffle_trainval_indices = copy(trainval_indices)\n",
    "    random.shuffle(shuffle_trainval_indices)\n",
    "    split_index = int(len(shuffle_trainval_indices) * 0.9)\n",
    "    train_indices = shuffle_trainval_indices[:split_index]\n",
    "    val_indices = shuffle_trainval_indices[split_index:]\n",
    "    train_data, val_data, test_data = data.split_data_by_indices(\n",
    "        all_data, [train_indices], [val_indices], [test_indices]\n",
    "    )\n",
    "\n",
    "    train_dset = data.MoleculeDataset(train_data[0], atom_featurizer, bond_featurizer)\n",
    "    val_dset = data.MoleculeDataset(val_data[0], atom_featurizer, bond_featurizer)\n",
    "    test_dset = data.MoleculeDataset(test_data[0], atom_featurizer, bond_featurizer)\n",
    "\n",
    "    train_loader = data.build_dataloader(train_dset, num_workers=num_workers)\n",
    "    val_loader = data.build_dataloader(val_dset, num_workers=num_workers, shuffle=False)\n",
    "    test_loader = data.build_dataloader(\n",
    "        test_dset, num_workers=num_workers, shuffle=False\n",
    "    )\n",
    "    return train_loader, val_loader, test_loader"
   ]
  },
  {
   "cell_type": "markdown",
   "metadata": {},
   "source": [
    "# Train with active learning"
   ]
  },
  {
   "cell_type": "markdown",
   "metadata": {},
   "source": [
    "## Set up trainer"
   ]
  },
  {
   "cell_type": "code",
   "execution_count": 16,
   "metadata": {},
   "outputs": [],
   "source": [
    "def get_trainer():\n",
    "    return pl.Trainer(\n",
    "        logger=False,\n",
    "        enable_checkpointing=True,  # Use `True` if you want to save model checkpoints. The checkpoints will be saved in the `checkpoints` folder.\n",
    "        enable_progress_bar=False,\n",
    "        accelerator=\"cpu\",\n",
    "        devices=1,\n",
    "        max_epochs=20,  # number of epochs to train for\n",
    "    )"
   ]
  },
  {
   "cell_type": "markdown",
   "metadata": {},
   "source": [
    "## Start training"
   ]
  },
  {
   "cell_type": "code",
   "execution_count": 17,
   "metadata": {},
   "outputs": [],
   "source": [
    "def active_learning(\n",
    "    model_func: LitModule,\n",
    "    trainval_indices: list[int],\n",
    "    test_indices: list[int],\n",
    "    n_steps: int = 5,\n",
    "    priority_function: str = \"Dreiman\",\n",
    "):\n",
    "    true_percentage_list = []\n",
    "    for i in range(n_steps):\n",
    "        if i == 0:\n",
    "            pass\n",
    "        else:\n",
    "            # A priority function (or acquistition function) guides the active learning process by selecting the most informative data points to label next.\n",
    "            # A good choice for such a function is the uncertainty of a model's output on each data point.\n",
    "            # Here, we follow the paper's (Dreiman et al.) method, acquiring 0.8X for exploitation and 0.2X for exploration.\n",
    "            if priority_function == \"Dreiman\":\n",
    "                sorted_indices_descending = np.argsort(-preds.reshape(-1))\n",
    "                new_datapoints_indices = sorted_indices_descending[\n",
    "                    : int(query_size * 0.8)\n",
    "                ].tolist() + random.choices(\n",
    "                    sorted_indices_descending[int(query_size * 0.8) :],\n",
    "                    k=int(query_size * 0.2),\n",
    "                )\n",
    "                new_datapoints_indices = [\n",
    "                    test_indices[i] for i in new_datapoints_indices\n",
    "                ]  # map back to the original index\n",
    "                trainval_indices.extend(new_datapoints_indices)\n",
    "                test_indices = list(set(range(len(all_data))) - set(trainval_indices))\n",
    "            elif priority_function == \"random\":\n",
    "                new_datapoints_indices = random.choices(\n",
    "                    range(test_indices), k=query_size\n",
    "                )\n",
    "                new_datapoints_indices = [\n",
    "                    test_indices[i] for i in new_datapoints_indices\n",
    "                ]  # map back to the original index\n",
    "                trainval_indices.extend(new_datapoints_indices)\n",
    "                test_indices = list(set(range(len(all_data))) - set(trainval_indices))\n",
    "        train_loader, val_loader, test_loader = get_dataloaders(\n",
    "            trainval_indices, test_indices\n",
    "        )\n",
    "        trainer = get_trainer()\n",
    "\n",
    "        model = (\n",
    "            model_func()\n",
    "        )  # remove this line to continue training from the previous model\n",
    "        trainer.fit(model, train_loader, val_loader)\n",
    "\n",
    "        predss = trainer.predict(\n",
    "            model, test_loader\n",
    "        )  # intermediate results can be used for early stopping\n",
    "        preds = torch.concat(predss, 0)\n",
    "\n",
    "        true_indices = df_input.index[df_input[\"Class\"] == 1].tolist()\n",
    "        is_true = [idx in true_indices for idx in trainval_indices]\n",
    "        true_percentage = (sum(is_true) / len(true_indices)) * 100\n",
    "        true_percentage_list.append(true_percentage)\n",
    "    return true_percentage_list"
   ]
  },
  {
   "cell_type": "code",
   "execution_count": 18,
   "metadata": {},
   "outputs": [
    {
     "name": "stderr",
     "output_type": "stream",
     "text": [
      "/home/scli/miniconda3/envs/chemprop_v2/lib/python3.11/site-packages/lightning/fabric/plugins/environments/slurm.py:204: The `srun` command is available on your system but is not used. HINT: If your intention is to run Lightning on SLURM, prepend your python command with `srun` like so: srun python /home/scli/miniconda3/envs/chemprop_v2/lib/python3.1 ...\n",
      "GPU available: True (cuda), used: False\n",
      "TPU available: False, using: 0 TPU cores\n",
      "IPU available: False, using: 0 IPUs\n",
      "HPU available: False, using: 0 HPUs\n",
      "/home/scli/miniconda3/envs/chemprop_v2/lib/python3.11/site-packages/lightning/pytorch/trainer/setup.py:187: GPU available but not used. You can set it by doing `Trainer(accelerator='gpu')`.\n",
      "/home/scli/miniconda3/envs/chemprop_v2/lib/python3.11/site-packages/lightning/pytorch/callbacks/model_checkpoint.py:653: Checkpoint directory /data2/scli/projects/baseprop/checkpoints exists and is not empty.\n",
      "\n",
      "  | Name          | Type                    | Params\n",
      "----------------------------------------------------------\n",
      "0 | encoder       | GCN                     | 130 K \n",
      "1 | predictor     | BinaryClassificationFFN | 705 K \n",
      "2 | X_d_transform | Identity                | 0     \n",
      "----------------------------------------------------------\n",
      "835 K     Trainable params\n",
      "0         Non-trainable params\n",
      "835 K     Total params\n",
      "3.342     Total estimated model params size (MB)\n"
     ]
    },
    {
     "name": "stderr",
     "output_type": "stream",
     "text": [
      "/home/scli/miniconda3/envs/chemprop_v2/lib/python3.11/site-packages/lightning/pytorch/trainer/connectors/data_connector.py:441: The 'val_dataloader' does not have many workers which may be a bottleneck. Consider increasing the value of the `num_workers` argument` to `num_workers=63` in the `DataLoader` to improve performance.\n",
      "/home/scli/miniconda3/envs/chemprop_v2/lib/python3.11/site-packages/lightning/pytorch/trainer/connectors/data_connector.py:441: The 'train_dataloader' does not have many workers which may be a bottleneck. Consider increasing the value of the `num_workers` argument` to `num_workers=63` in the `DataLoader` to improve performance.\n",
      "`Trainer.fit` stopped: `max_epochs=20` reached.\n",
      "/home/scli/miniconda3/envs/chemprop_v2/lib/python3.11/site-packages/lightning/pytorch/trainer/connectors/data_connector.py:441: The 'predict_dataloader' does not have many workers which may be a bottleneck. Consider increasing the value of the `num_workers` argument` to `num_workers=63` in the `DataLoader` to improve performance.\n",
      "GPU available: True (cuda), used: False\n",
      "TPU available: False, using: 0 TPU cores\n",
      "IPU available: False, using: 0 IPUs\n",
      "HPU available: False, using: 0 HPUs\n",
      "\n",
      "  | Name          | Type                    | Params\n",
      "----------------------------------------------------------\n",
      "0 | encoder       | GCN                     | 130 K \n",
      "1 | predictor     | BinaryClassificationFFN | 705 K \n",
      "2 | X_d_transform | Identity                | 0     \n",
      "----------------------------------------------------------\n",
      "835 K     Trainable params\n",
      "0         Non-trainable params\n",
      "835 K     Total params\n",
      "3.342     Total estimated model params size (MB)\n",
      "`Trainer.fit` stopped: `max_epochs=20` reached.\n",
      "GPU available: True (cuda), used: False\n",
      "TPU available: False, using: 0 TPU cores\n",
      "IPU available: False, using: 0 IPUs\n",
      "HPU available: False, using: 0 HPUs\n",
      "\n",
      "  | Name          | Type                    | Params\n",
      "----------------------------------------------------------\n",
      "0 | encoder       | GCN                     | 130 K \n",
      "1 | predictor     | BinaryClassificationFFN | 705 K \n",
      "2 | X_d_transform | Identity                | 0     \n",
      "----------------------------------------------------------\n",
      "835 K     Trainable params\n",
      "0         Non-trainable params\n",
      "835 K     Total params\n",
      "3.342     Total estimated model params size (MB)\n",
      "`Trainer.fit` stopped: `max_epochs=20` reached.\n",
      "GPU available: True (cuda), used: False\n",
      "TPU available: False, using: 0 TPU cores\n",
      "IPU available: False, using: 0 IPUs\n",
      "HPU available: False, using: 0 HPUs\n",
      "\n",
      "  | Name          | Type                    | Params\n",
      "----------------------------------------------------------\n",
      "0 | encoder       | GCN                     | 130 K \n",
      "1 | predictor     | BinaryClassificationFFN | 705 K \n",
      "2 | X_d_transform | Identity                | 0     \n",
      "----------------------------------------------------------\n",
      "835 K     Trainable params\n",
      "0         Non-trainable params\n",
      "835 K     Total params\n",
      "3.342     Total estimated model params size (MB)\n",
      "`Trainer.fit` stopped: `max_epochs=20` reached.\n",
      "GPU available: True (cuda), used: False\n",
      "TPU available: False, using: 0 TPU cores\n",
      "IPU available: False, using: 0 IPUs\n",
      "HPU available: False, using: 0 HPUs\n",
      "\n",
      "  | Name          | Type                    | Params\n",
      "----------------------------------------------------------\n",
      "0 | encoder       | GCN                     | 130 K \n",
      "1 | predictor     | BinaryClassificationFFN | 705 K \n",
      "2 | X_d_transform | Identity                | 0     \n",
      "----------------------------------------------------------\n",
      "835 K     Trainable params\n",
      "0         Non-trainable params\n",
      "835 K     Total params\n",
      "3.342     Total estimated model params size (MB)\n",
      "`Trainer.fit` stopped: `max_epochs=20` reached.\n"
     ]
    }
   ],
   "source": [
    "# Active learning for GCNN\n",
    "trainval_indices = copy(initial_training_indices)\n",
    "test_indices = list(set(range(len(all_data))) - set(initial_training_indices))\n",
    "\n",
    "model_func = get_gcnn\n",
    "y_gcnn = active_learning(\n",
    "    model_func, n_steps=5, trainval_indices=trainval_indices, test_indices=test_indices\n",
    ")"
   ]
  },
  {
   "cell_type": "code",
   "execution_count": 19,
   "metadata": {},
   "outputs": [
    {
     "name": "stderr",
     "output_type": "stream",
     "text": [
      "GPU available: True (cuda), used: False\n",
      "TPU available: False, using: 0 TPU cores\n",
      "IPU available: False, using: 0 IPUs\n",
      "HPU available: False, using: 0 HPUs\n",
      "TPU available: False, using: 0 TPU cores\n",
      "IPU available: False, using: 0 IPUs\n",
      "HPU available: False, using: 0 HPUs\n",
      "\n",
      "  | Name          | Type                    | Params\n",
      "----------------------------------------------------------\n",
      "0 | predictor     | BinaryClassificationFFN | 615 K \n",
      "1 | X_d_transform | Identity                | 0     \n",
      "----------------------------------------------------------\n",
      "615 K     Trainable params\n",
      "0         Non-trainable params\n",
      "615 K     Total params\n",
      "2.460     Total estimated model params size (MB)\n",
      "`Trainer.fit` stopped: `max_epochs=20` reached.\n",
      "GPU available: True (cuda), used: False\n",
      "TPU available: False, using: 0 TPU cores\n",
      "IPU available: False, using: 0 IPUs\n",
      "HPU available: False, using: 0 HPUs\n",
      "\n",
      "  | Name          | Type                    | Params\n",
      "----------------------------------------------------------\n",
      "0 | predictor     | BinaryClassificationFFN | 615 K \n",
      "1 | X_d_transform | Identity                | 0     \n",
      "----------------------------------------------------------\n",
      "615 K     Trainable params\n",
      "0         Non-trainable params\n",
      "615 K     Total params\n",
      "2.460     Total estimated model params size (MB)\n",
      "`Trainer.fit` stopped: `max_epochs=20` reached.\n",
      "GPU available: True (cuda), used: False\n",
      "TPU available: False, using: 0 TPU cores\n",
      "IPU available: False, using: 0 IPUs\n",
      "HPU available: False, using: 0 HPUs\n",
      "\n",
      "  | Name          | Type                    | Params\n",
      "----------------------------------------------------------\n",
      "0 | predictor     | BinaryClassificationFFN | 615 K \n",
      "1 | X_d_transform | Identity                | 0     \n",
      "----------------------------------------------------------\n",
      "615 K     Trainable params\n",
      "0         Non-trainable params\n",
      "615 K     Total params\n",
      "2.460     Total estimated model params size (MB)\n",
      "`Trainer.fit` stopped: `max_epochs=20` reached.\n",
      "GPU available: True (cuda), used: False\n",
      "TPU available: False, using: 0 TPU cores\n",
      "IPU available: False, using: 0 IPUs\n",
      "HPU available: False, using: 0 HPUs\n",
      "\n",
      "  | Name          | Type                    | Params\n",
      "----------------------------------------------------------\n",
      "0 | predictor     | BinaryClassificationFFN | 615 K \n",
      "1 | X_d_transform | Identity                | 0     \n",
      "----------------------------------------------------------\n",
      "615 K     Trainable params\n",
      "0         Non-trainable params\n",
      "615 K     Total params\n",
      "2.460     Total estimated model params size (MB)\n",
      "`Trainer.fit` stopped: `max_epochs=20` reached.\n",
      "GPU available: True (cuda), used: False\n",
      "TPU available: False, using: 0 TPU cores\n",
      "IPU available: False, using: 0 IPUs\n",
      "HPU available: False, using: 0 HPUs\n",
      "\n",
      "  | Name          | Type                    | Params\n",
      "----------------------------------------------------------\n",
      "0 | predictor     | BinaryClassificationFFN | 615 K \n",
      "1 | X_d_transform | Identity                | 0     \n",
      "----------------------------------------------------------\n",
      "615 K     Trainable params\n",
      "0         Non-trainable params\n",
      "615 K     Total params\n",
      "2.460     Total estimated model params size (MB)\n",
      "`Trainer.fit` stopped: `max_epochs=20` reached.\n"
     ]
    }
   ],
   "source": [
    "# Active learning for DNN\n",
    "trainval_indices = copy(initial_training_indices)\n",
    "test_indices = list(set(range(len(all_data))) - set(initial_training_indices))\n",
    "\n",
    "model_func = get_dnn\n",
    "y_dnn = active_learning(\n",
    "    model_func, n_steps=5, trainval_indices=trainval_indices, test_indices=test_indices\n",
    ")"
   ]
  },
  {
   "cell_type": "code",
   "execution_count": 20,
   "metadata": {},
   "outputs": [
    {
     "data": {
      "image/png": "[encoded data removed]",
      "text/plain": [
       "<Figure size 800x500 with 1 Axes>"
      ]
     },
     "metadata": {},
     "output_type": "display_data"
    }
   ],
   "source": [
    "# Plot figure\n",
    "x = [10, 15, 20, 25, 30]\n",
    "true_rate = df_input.loc[:, target_columns].value_counts()[1] / len(df_input)\n",
    "y_random = [i * true_rate for i in x]\n",
    "\n",
    "plt.figure(figsize=(8, 5))\n",
    "\n",
    "plt.plot(x, y_dnn, label=\"DNN\")\n",
    "plt.plot(x, y_gcnn, label=\"GCNN\")\n",
    "plt.plot(x, y_random, label=\"random\")\n",
    "\n",
    "plt.legend(loc=\"upper left\", title=\"Classifier\")\n",
    "\n",
    "plt.xlabel(\"% Library Scanned\")\n",
    "plt.ylabel(\"% Actives Recovered\")\n",
    "\n",
    "plt.show()"
   ]
  }
 ],
 "metadata": {
  "kernelspec": {
   "display_name": "chv2",
   "language": "python",
   "name": "python3"
  },
  "language_info": {
   "codemirror_mode": {
    "name": "ipython",
    "version": 3
   },
   "file_extension": ".py",
   "mimetype": "text/x-python",
   "name": "python",
   "nbconvert_exporter": "python",
   "pygments_lexer": "ipython3",
   "version": "3.11.8"
  }
 },
 "nbformat": 4,
 "nbformat_minor": 2
}
